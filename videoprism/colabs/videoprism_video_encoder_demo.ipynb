{
  "cells": [
    {
      "cell_type": "markdown",
      "metadata": {
        "id": "view-in-github",
        "colab_type": "text"
      },
      "source": [
        "<a href=\"https://colab.research.google.com/github/KellyLyonsRBG/samurai/blob/master/videoprism/colabs/videoprism_video_encoder_demo.ipynb\" target=\"_parent\"><img src=\"https://colab.research.google.com/assets/colab-badge.svg\" alt=\"Open In Colab\"/></a>"
      ]
    },
    {
      "metadata": {
        "id": "KPPUiCpSbm53"
      },
      "cell_type": "markdown",
      "source": [
        "# VideoPrism Video Encoder Demo\n",
        "\n",
        "[![Paper](https://img.shields.io/badge/arXiv-2402.13217-red.svg)](https://arxiv.org/abs/2402.13217)\n",
        "[![Blog](https://img.shields.io/badge/Google_Research-Blog-green.svg)](https://research.google/blog/videoprism-a-foundational-visual-encoder-for-video-understanding/)\n",
        "[![License](https://img.shields.io/badge/License-Apache%202.0-blue.svg)](https://opensource.org/licenses/Apache-2.0)\n",
        "\n",
        "This notebook provides an example of video feature extraction with a pre-trained VideoPrism video encoder.\n",
        "\n",
        "Please run this demo on Google Colab with (faster) or without TPU."
      ]
    },
    {
      "metadata": {
        "id": "k08qFZ9-cn9v"
      },
      "cell_type": "markdown",
      "source": [
        "## Set up"
      ]
    },
    {
      "metadata": {
        "id": "1dfyX8EyVsvL"
      },
      "cell_type": "code",
      "source": [
        "# @title Prepare environment\n",
        "\n",
        "import os\n",
        "import sys\n",
        "\n",
        "# Fetch VideoPrism repository if Python does not know about it and install\n",
        "# dependencies needed for this notebook.\n",
        "if not os.path.exists(\"videoprism_repo\"):\n",
        "  !git clone --quiet --branch=main --depth=1 \\\n",
        "     https://github.com/google-deepmind/videoprism.git videoprism_repo\n",
        "  os.chdir('./videoprism_repo')\n",
        "  !pip install .\n",
        "  os.chdir('..')\n",
        "\n",
        "# Append VideoPrism code to Python import path.\n",
        "if \"videoprism_repo\" not in sys.path:\n",
        "  sys.path.append(\"videoprism_repo\")\n",
        "\n",
        "# Install missing dependencies.\n",
        "!pip install mediapy\n",
        "\n",
        "import jax\n",
        "from jax.extend import backend\n",
        "import tensorflow as tf\n",
        "\n",
        "# Do not let TF use the GPU or TPUs.\n",
        "tf.config.set_visible_devices([], \"GPU\")\n",
        "tf.config.set_visible_devices([], \"TPU\")\n",
        "\n",
        "print(f\"JAX version:  {jax.__version__}\")\n",
        "print(f\"JAX platform: {backend.get_backend().platform}\")\n",
        "print(f\"JAX devices:  {jax.device_count()}\")"
      ],
      "outputs": [],
      "execution_count": null
    },
    {
      "metadata": {
        "id": "zByA1K0IVKAI"
      },
      "cell_type": "code",
      "source": [
        "# @title Load dependencies and define utilities\n",
        "\n",
        "import mediapy\n",
        "import numpy as np\n",
        "from PIL import Image\n",
        "\n",
        "\n",
        "def read_and_preprocess_video(\n",
        "    filename: str, target_num_frames: int, target_frame_size: tuple[int, int]\n",
        "):\n",
        "  \"\"\"Reads and preprocesses a video.\"\"\"\n",
        "\n",
        "  frames = mediapy.read_video(filename)\n",
        "\n",
        "  # Sample to target number of frames.\n",
        "  frame_indices = np.linspace(\n",
        "      0, len(frames), num=target_num_frames, endpoint=False, dtype=np.int32\n",
        "  )\n",
        "  frames = np.array([frames[i] for i in frame_indices])\n",
        "\n",
        "  # Resize to target size.\n",
        "  original_height, original_width = frames.shape[-3:-1]\n",
        "  target_height, target_width = target_frame_size\n",
        "  assert (\n",
        "      original_height * target_width == original_width * target_height\n",
        "  ), 'Currently does not support aspect ratio mismatch.'\n",
        "  frames = mediapy.resize_video(frames, shape=target_frame_size)\n",
        "\n",
        "  # Normalize pixel values to [0.0, 1.0].\n",
        "  frames = mediapy.to_float01(frames)\n",
        "\n",
        "  return frames"
      ],
      "outputs": [],
      "execution_count": null
    },
    {
      "metadata": {
        "id": "WnYuzSgrXCL1"
      },
      "cell_type": "code",
      "source": [
        "# @title Load model\n",
        "\n",
        "import jax\n",
        "import jax.numpy as jnp\n",
        "from videoprism import models as vp\n",
        "\n",
        "MODEL_NAME = 'videoprism_public_v1_large'  # @param ['videoprism_public_v1_base', 'videoprism_public_v1_large'] {allow-input: false}\n",
        "NUM_FRAMES = 16\n",
        "FRAME_SIZE = 288\n",
        "\n",
        "flax_model = vp.get_model(MODEL_NAME)\n",
        "loaded_state = vp.load_pretrained_weights(MODEL_NAME)\n",
        "\n",
        "\n",
        "@jax.jit\n",
        "def forward_fn(inputs, train=False):\n",
        "  return flax_model.apply(loaded_state, inputs, train=train)"
      ],
      "outputs": [],
      "execution_count": null
    },
    {
      "cell_type": "code",
      "source": [
        "from jax.experimental import jax2tf\n",
        "import tensorflow as tf\n",
        "\n",
        "def extract_features(frames):\n",
        "    return flax_model.apply({'params': loaded_state['params']}, frames)\n",
        "\n",
        "tf_func = tf.function(jax2tf.convert(extract_features, enable_xla=True))\n",
        "concrete_fn = tf_func.get_concrete_function(dummy_video)\n",
        "\n",
        "model_dir = \"videoprism_saved_model\"\n",
        "tf.saved_model.save(tf_func, model_dir, signatures=concrete_fn)\n",
        "\n",
        "converter = tf.lite.TFLiteConverter.from_saved_model(model_dir)\n",
        "converter.optimizations = [tf.lite.Optimize.DEFAULT]\n",
        "tflite_model = converter.convert()\n",
        "\n",
        "with open(\"videoprism_model.tflite\", \"wb\") as f:\n",
        "    f.write(tflite_model)"
      ],
      "metadata": {
        "id": "WFnryG8VS2JA"
      },
      "execution_count": null,
      "outputs": []
    },
    {
      "metadata": {
        "id": "kLzkhP8CYUYj"
      },
      "cell_type": "code",
      "source": [
        "VIDEO_FILE_PATH = 'videoprism_repo/videoprism/assets/water_bottle_drumming.mp4'  # @param {type: \"string\"}\n",
        "\n",
        "frames = read_and_preprocess_video(\n",
        "    VIDEO_FILE_PATH,\n",
        "    target_num_frames=NUM_FRAMES,\n",
        "    target_frame_size=[FRAME_SIZE, FRAME_SIZE],\n",
        ")\n",
        "mediapy.show_video(frames, fps=6.0)\n",
        "\n",
        "frames = jnp.asarray(frames[None, ...])  # Add batch dimension.\n",
        "print(f'Input shape: {frames.shape}')\n",
        "\n",
        "embeddings, _ = forward_fn(frames)\n",
        "print(f'Encoded embedding shape: {embeddings.shape}')\n"
      ],
      "outputs": [],
      "execution_count": null
    },
    {
      "metadata": {
        "id": "AliScLC0jo1s"
      },
      "cell_type": "markdown",
      "source": [
        "# Example: Video feature extraction\n",
        "\n",
        "In this example, we extract the spatiotemporal embeddings of an example video."
      ]
    },
    {
      "cell_type": "code",
      "source": [],
      "metadata": {
        "id": "0rTkFK19N_dY"
      },
      "execution_count": null,
      "outputs": []
    }
  ],
  "metadata": {
    "colab": {
      "provenance": [],
      "gpuType": "V28",
      "include_colab_link": true
    },
    "kernelspec": {
      "name": "python3",
      "display_name": "Python 3"
    },
    "language_info": {
      "name": "python"
    },
    "accelerator": "TPU"
  },
  "nbformat": 4,
  "nbformat_minor": 0
}